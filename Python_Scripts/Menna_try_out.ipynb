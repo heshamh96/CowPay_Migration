{
 "cells": [
  {
   "cell_type": "code",
   "execution_count": 1,
   "metadata": {},
   "outputs": [
    {
     "name": "stdout",
     "output_type": "stream",
     "text": [
      "Connection established to:  (None, 'Admin', 'eng.ahmedmgad@gmail.com', 'admin@cowpay.me', '$2y$10$lbqBJX8K/HyeNIfBREPDh.3DWWcknVcDUh6sdWQ1hVUlvNvDiWI42', None, None, None, None, None, None, None, None, None, None, None, None, None, None, None, None, datetime.datetime(2019, 3, 27, 14, 55, 29), datetime.datetime(2022, 5, 9, 19, 35, 55))\n"
     ]
    }
   ],
   "source": [
    "import pandas as pd\n",
    "import mysql.connector as lol\n",
    "import json\n",
    "import collections\n",
    "from sys import path\n",
    "#from pyadomd import Pyadomd\n",
    "import pyodbc \n",
    "\n",
    "\n",
    "\n",
    "#conn_mysql = connection.MySQLConnection(user='root', password='P@ssw0rd',\n",
    "#                            host='localhost',database='cowpay_staging')\n",
    "\n",
    "conn_mysql = lol.connect(user='root', password='P@ssw0rd',host='localhost',database='cowpay_staging')\n",
    "\n",
    "#Creating a cursor object using the cursor() method\n",
    "cursor = conn_mysql.cursor()\n",
    "\n",
    "#Executing an MYSQL function using the execute() method\n",
    "cursor.execute(\"SELECT parent_id,name,email,phone,password,m_country_id,m_city_id,m_facebook,m_twitter,m_linked_in,m_instagram,m_about,m_website,m_logo,m_address,m_commercial_registry_file,m_tax_id_file,m_personal_id_file,m_commercial_registry,m_tax_id,m_personal_id,created_at,updated_at FROM cowpay_staging.users\")\n",
    "\n",
    "# Fetch a single row using fetchone() method.\n",
    "data = cursor.fetchone()\n",
    "print(\"Connection established to: \",data)\n",
    "\n",
    "#Closing the connection\n",
    "conn_mysql.close()"
   ]
  },
  {
   "cell_type": "code",
   "execution_count": null,
   "metadata": {},
   "outputs": [],
   "source": []
  }
 ],
 "metadata": {
  "kernelspec": {
   "display_name": "Python 3.9.12 ('base')",
   "language": "python",
   "name": "python3"
  },
  "language_info": {
   "codemirror_mode": {
    "name": "ipython",
    "version": 3
   },
   "file_extension": ".py",
   "mimetype": "text/x-python",
   "name": "python",
   "nbconvert_exporter": "python",
   "pygments_lexer": "ipython3",
   "version": "3.9.12"
  },
  "orig_nbformat": 4,
  "vscode": {
   "interpreter": {
    "hash": "ad2bdc8ecc057115af97d19610ffacc2b4e99fae6737bb82f5d7fb13d2f2c186"
   }
  }
 },
 "nbformat": 4,
 "nbformat_minor": 2
}
